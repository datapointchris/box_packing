{
 "cells": [
  {
   "cell_type": "code",
   "execution_count": 1,
   "metadata": {},
   "outputs": [],
   "source": [
    "from flask import Flask\n",
    "from flask_sqlalchemy import SQLAlchemy\n",
    "# from box_packing.models import Box, Item, db\n",
    "from boxes import default_boxes"
   ]
  },
  {
   "cell_type": "code",
   "execution_count": 2,
   "metadata": {},
   "outputs": [],
   "source": [
    "app = Flask(__name__)\n",
    "app.config['SQLALCHEMY_DATABASE_URI'] = 'sqlite+pysqlite:///moving.db'\n",
    "app.config['SQLALCHEMY_TRACK_MODIFICATIONS'] = False\n",
    "db = SQLAlchemy(app)"
   ]
  },
  {
   "cell_type": "code",
   "execution_count": 3,
   "metadata": {},
   "outputs": [],
   "source": [
    "class Box(db.Model):\n",
    "    __tablename__ = 'boxes'\n",
    "    id = db.Column('id', db.Integer, primary_key=True)\n",
    "    name = db.Column('name', db.String(30))\n",
    "    size = db.Column('size', db.String(20))\n",
    "    length = db.Column('length', db.Integer)\n",
    "    width = db.Column('width', db.Integer)\n",
    "    height = db.Column('height', db.Integer)\n",
    "    weight_class = db.Column('weight_class', db.Integer)\n",
    "    fragile = db.Column('fragile', db.Boolean, default=False)\n",
    "    liquid = db.Column('liquid', db.Boolean, default=False)\n",
    "    valuable = db.Column('valuable', db.Boolean, default=False)\n",
    "    weather_resistant = db.Column('weather_resistant', db.Boolean, default=False)\n",
    "\n",
    "    items = db.relationship('Item', backref='box')\n",
    "\n",
    "    # def __repr__(self):\n",
    "    #     return f'Box(id={self.id!r}, name={self.name!r}, size={self.size!r}'\n",
    "\n",
    "\n",
    "class Item(db.Model):\n",
    "    __tablename__ = 'items'\n",
    "\n",
    "    id = db.Column('id', db.Integer, primary_key=True)\n",
    "    box_id = db.Column('box_id', db.ForeignKey('boxes.id'), nullable=False)\n",
    "    name = db.Column('name', db.String)\n",
    "\n",
    "    # boxes = db.relationship('Box', backref='items')\n",
    "\n",
    "    def __repr__(self):\n",
    "        return f'Item(id={self.id!r}, name={self.name!r}, box_id={self.box_id!r}'\n",
    "\n",
    "\n",
    "db.create_all()"
   ]
  },
  {
   "cell_type": "code",
   "execution_count": 4,
   "metadata": {},
   "outputs": [],
   "source": [
    "# engine = create_engine('sqlite+pysqlite:///moving.db', echo=False, future=True)\n",
    "# session = Session(engine)"
   ]
  },
  {
   "cell_type": "code",
   "execution_count": 20,
   "metadata": {},
   "outputs": [],
   "source": [
    "def add_box(box):\n",
    "    db.session.add(Box(**box))\n",
    "    db.session.commit()\n",
    "\n",
    "\n",
    "def add_default_boxes():\n",
    "    box_objects = [Box(**box) for box in default_boxes]\n",
    "    db.session.add_all(box_objects)\n",
    "    db.session.commit()\n",
    "\n",
    "\n",
    "def delete_box(id):\n",
    "    db.session.query(Box).filter(Box.id == id).delete()\n",
    "    db.session.commit()\n",
    "\n",
    "\n",
    "def delete_all_boxes():\n",
    "    db.session.query(Box).delete()\n",
    "    db.session.commit()\n",
    "\n",
    "\n",
    "def get_box(id):\n",
    "    box = db.session.query(Box).filter(Box.id == id).one_or_none()\n",
    "    if box is None:\n",
    "        return 'No box with that id'\n",
    "    border_size = 30\n",
    "    box_attrs = [a for a in vars(box) if not a.startswith('__') and not a.startswith('_')]\n",
    "    title = f'{\"=\"*border_size} BOX {box.id} {\"=\"*border_size}'\n",
    "    print(title)\n",
    "    for item in box_attrs:\n",
    "        print(f'||    {item}: {getattr(box, item)}')\n",
    "    print('-' * len(title))\n",
    "    print()\n",
    "\n",
    "\n",
    "def print_all_boxes():\n",
    "    boxes = db.session.query(Box).all()\n",
    "    border_size = 30\n",
    "    for box in sorted(boxes, key=lambda x: x.id):\n",
    "        box_attrs = [\n",
    "            a for a in vars(box) if not a.startswith('__') and not a.startswith('_')\n",
    "        ]\n",
    "        title = f'{\"=\"*border_size} BOX {box.id} {\"=\"*border_size}'\n",
    "        print(title)\n",
    "        for item in box_attrs:\n",
    "            print(f'||    {item}: {getattr(box, item)}')\n",
    "        print('-' * len(title))\n",
    "        print()\n",
    "\n",
    "\n",
    "def update_box(id, **kwargs):\n",
    "    box = db.session.query(Box).filter(Box.id == id).first()\n",
    "    print(vars(box))\n",
    "    for k, v in kwargs.items():\n",
    "        setattr(box, k, v)\n",
    "    print(vars(box))\n",
    "    db.session.commit()\n",
    "\n",
    "\n",
    "def add_box_item(box_id: str, item: str) -> None:\n",
    "    item_object = Item(**{'box_id': box_id, 'name': item})\n",
    "    db.session.add(item_object)\n",
    "    db.session.commit()\n",
    "\n",
    "\n",
    "def delete_box_item(box_id: str, item: str) -> None:\n",
    "    db.session.query(Item).filter(Item.box_id==box_id, Item.name==item).delete()\n",
    "    db.session.commit()\n",
    "\n",
    "def print_box_items(box_id):\n",
    "    items = db.session.query(Box).filter(Box.id==box_id).first().items\n",
    "    for item in items:\n",
    "        print(item.name)"
   ]
  },
  {
   "cell_type": "code",
   "execution_count": 18,
   "metadata": {},
   "outputs": [],
   "source": [
    "# delete_all_boxes()\n",
    "add_default_boxes()"
   ]
  },
  {
   "cell_type": "code",
   "execution_count": 21,
   "metadata": {},
   "outputs": [
    {
     "name": "stdout",
     "output_type": "stream",
     "text": [
      "power cable\n",
      "cords\n",
      "chargers\n",
      "airpods\n",
      "fans\n"
     ]
    }
   ],
   "source": [
    "print_box_items(1)\n",
    "\n",
    "    "
   ]
  },
  {
   "cell_type": "code",
   "execution_count": 8,
   "metadata": {},
   "outputs": [],
   "source": [
    "add_box_item(1, 'new computer')"
   ]
  },
  {
   "cell_type": "code",
   "execution_count": 13,
   "metadata": {},
   "outputs": [
    {
     "data": {
      "text/plain": [
       "[Item(id=1, name='power cable', box_id=1,\n",
       " Item(id=2, name='cords', box_id=1,\n",
       " Item(id=3, name='chargers', box_id=1,\n",
       " Item(id=4, name='airpods', box_id=1,\n",
       " Item(id=5, name='fans', box_id=1]"
      ]
     },
     "execution_count": 13,
     "metadata": {},
     "output_type": "execute_result"
    }
   ],
   "source": [
    "db.session.query(Box).filter(Box.id==1).first().items"
   ]
  },
  {
   "cell_type": "code",
   "execution_count": 11,
   "metadata": {},
   "outputs": [],
   "source": []
  },
  {
   "cell_type": "code",
   "execution_count": 14,
   "metadata": {},
   "outputs": [],
   "source": [
    "delete_box_item(1, 'new computer')"
   ]
  },
  {
   "cell_type": "code",
   "execution_count": null,
   "metadata": {},
   "outputs": [],
   "source": []
  }
 ],
 "metadata": {
  "interpreter": {
   "hash": "45c3460790fa99bbdf1fe0d9a884df189912d25502183425302aa8521ffdf460"
  },
  "kernelspec": {
   "display_name": "Python 3.8.12 64-bit ('.venv': venv)",
   "name": "python3"
  },
  "language_info": {
   "codemirror_mode": {
    "name": "ipython",
    "version": 3
   },
   "file_extension": ".py",
   "mimetype": "text/x-python",
   "name": "python",
   "nbconvert_exporter": "python",
   "pygments_lexer": "ipython3",
   "version": "3.8.12"
  },
  "orig_nbformat": 4
 },
 "nbformat": 4,
 "nbformat_minor": 2
}
