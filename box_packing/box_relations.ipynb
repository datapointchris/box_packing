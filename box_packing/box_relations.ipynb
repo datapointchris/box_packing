{
 "cells": [
  {
   "cell_type": "code",
   "execution_count": 6,
   "metadata": {},
   "outputs": [],
   "source": [
    "from flask import Flask\n",
    "from box_packing.box_manager import BoxManager\n",
    "import sqlite3\n",
    "from box_packing.test_boxes import box_list, item_list"
   ]
  },
  {
   "cell_type": "code",
   "execution_count": 7,
   "metadata": {},
   "outputs": [],
   "source": [
    "app = Flask(__name__, instance_relative_config=False)\n",
    "app.config.from_object('config.Config')\n",
    "\n",
    "connection = sqlite3.connect('moving.db')\n",
    "connection.row_factory = sqlite3.Row\n",
    "\n",
    "bm = BoxManager(connection)"
   ]
  },
  {
   "cell_type": "code",
   "execution_count": 9,
   "metadata": {},
   "outputs": [],
   "source": [
    "bm.reset_db()"
   ]
  },
  {
   "cell_type": "code",
   "execution_count": 10,
   "metadata": {},
   "outputs": [],
   "source": [
    "for box in box_list:\n",
    "    bm.add_box(box)\n",
    "\n",
    "for item in item_list:\n",
    "    bm.add_box_item(item)"
   ]
  },
  {
   "cell_type": "code",
   "execution_count": 6,
   "metadata": {},
   "outputs": [],
   "source": []
  },
  {
   "cell_type": "code",
   "execution_count": 11,
   "metadata": {},
   "outputs": [
    {
     "name": "stdout",
     "output_type": "stream",
     "text": [
      "============================== Computers ==================================\n",
      "|                                                                         |\n",
      "|    Item: Battery Backup, Warm: 0                                        |\n",
      "|    Item: Battery Backup1, Warm: 0                                       |\n",
      "|    Item: Some cords that have a long name that messes it up, Warm: 0    |\n",
      "|                                                                         |\n",
      "---------------------------------------------------------------------------\n",
      "\n"
     ]
    }
   ],
   "source": [
    "bm.print_box(1)"
   ]
  },
  {
   "cell_type": "code",
   "execution_count": 8,
   "metadata": {},
   "outputs": [
    {
     "data": {
      "text/plain": [
       "'===== Monitors and Clock ====='"
      ]
     },
     "execution_count": 8,
     "metadata": {},
     "output_type": "execute_result"
    }
   ],
   "source": [
    "bm.print_box(2)\n"
   ]
  },
  {
   "cell_type": "code",
   "execution_count": 9,
   "metadata": {},
   "outputs": [
    {
     "data": {
      "text/plain": [
       "'===== Food Staples ====='"
      ]
     },
     "execution_count": 9,
     "metadata": {},
     "output_type": "execute_result"
    }
   ],
   "source": [
    "bm.print_box(3)"
   ]
  },
  {
   "cell_type": "code",
   "execution_count": 10,
   "metadata": {},
   "outputs": [
    {
     "name": "stdout",
     "output_type": "stream",
     "text": [
      "== The Box with the Longest Name Ever in the World ==\n",
      "|                                                   |\n",
      "|    Item: Shite, Warm: 1    |\n",
      "|    Item: Shite, Warm: 1    |\n",
      "|                                                   |\n",
      "-----------------------------------------------------\n",
      "\n"
     ]
    }
   ],
   "source": [
    "bm.print_box(4)"
   ]
  },
  {
   "cell_type": "code",
   "execution_count": 11,
   "metadata": {},
   "outputs": [
    {
     "name": "stdout",
     "output_type": "stream",
     "text": [
      "================== D ==========================\n",
      "|                                             |\n",
      "|    Item: S, Warm: 1                         |\n",
      "|    Item: Do you want some more?, Warm: 1    |\n",
      "|    Item: S, Warm: 1                         |\n",
      "|    Item: Do you want some more?, Warm: 1    |\n",
      "|                                             |\n",
      "-----------------------------------------------\n",
      "\n"
     ]
    }
   ],
   "source": [
    "bm.print_box(5)"
   ]
  },
  {
   "cell_type": "code",
   "execution_count": 12,
   "metadata": {},
   "outputs": [
    {
     "data": {
      "text/plain": [
       "[{'id': 1,\n",
       "  'name': 'Computers',\n",
       "  'size': 'medium',\n",
       "  'essential': 0,\n",
       "  'warm': 1,\n",
       "  'liquid': 0},\n",
       " {'id': 2,\n",
       "  'name': 'Monitors and Clock',\n",
       "  'size': 'xlarge',\n",
       "  'essential': 0,\n",
       "  'warm': 1,\n",
       "  'liquid': 0},\n",
       " {'id': 3,\n",
       "  'name': 'Food Staples',\n",
       "  'size': 'medium',\n",
       "  'essential': 0,\n",
       "  'warm': 0,\n",
       "  'liquid': 0},\n",
       " {'id': 4,\n",
       "  'name': 'The Box with the Longest Name Ever in the World',\n",
       "  'size': 'medium',\n",
       "  'essential': 0,\n",
       "  'warm': 0,\n",
       "  'liquid': 0},\n",
       " {'id': 5,\n",
       "  'name': 'D',\n",
       "  'size': 'medium',\n",
       "  'essential': 1,\n",
       "  'warm': 0,\n",
       "  'liquid': 1}]"
      ]
     },
     "execution_count": 12,
     "metadata": {},
     "output_type": "execute_result"
    }
   ],
   "source": [
    "bm.get_all_boxes()"
   ]
  },
  {
   "cell_type": "code",
   "execution_count": 14,
   "metadata": {},
   "outputs": [],
   "source": [
    "boxitems = bm.get_box_items(1)"
   ]
  },
  {
   "cell_type": "code",
   "execution_count": 15,
   "metadata": {},
   "outputs": [
    {
     "data": {
      "text/plain": [
       "[{'id': 1,\n",
       "  'box_id': 1,\n",
       "  'name': 'Battery Backup',\n",
       "  'essential': 0,\n",
       "  'warm': 0,\n",
       "  'liquid': 0},\n",
       " {'id': 2,\n",
       "  'box_id': 1,\n",
       "  'name': 'Battery Backup1',\n",
       "  'essential': 0,\n",
       "  'warm': 0,\n",
       "  'liquid': 0},\n",
       " {'id': 3,\n",
       "  'box_id': 1,\n",
       "  'name': 'Some cords that have a long name that messes it up',\n",
       "  'essential': 0,\n",
       "  'warm': 0,\n",
       "  'liquid': 0}]"
      ]
     },
     "execution_count": 15,
     "metadata": {},
     "output_type": "execute_result"
    }
   ],
   "source": [
    "[d for d in boxitems]"
   ]
  },
  {
   "cell_type": "code",
   "execution_count": 25,
   "metadata": {},
   "outputs": [],
   "source": [
    "counts = [max(1, sum([d['essential'], d['warm'], d['liquid']])) for d in boxitems]"
   ]
  },
  {
   "cell_type": "code",
   "execution_count": 56,
   "metadata": {},
   "outputs": [],
   "source": [
    "things = zip(boxitems, counts)"
   ]
  },
  {
   "cell_type": "code",
   "execution_count": 58,
   "metadata": {},
   "outputs": [
    {
     "name": "stdout",
     "output_type": "stream",
     "text": [
      "Battery Backup 1\n",
      "Battery Backup1 1\n",
      "Some cords that have a long name that messes it up 1\n"
     ]
    }
   ],
   "source": [
    "things = zip(boxitems, counts)\n",
    "for t1, t2 in things:\n",
    "    print(t1.get('name'), t2)"
   ]
  },
  {
   "cell_type": "code",
   "execution_count": 51,
   "metadata": {},
   "outputs": [
    {
     "data": {
      "text/plain": [
       "'Some cords that have a long name that messes it up'"
      ]
     },
     "execution_count": 51,
     "metadata": {},
     "output_type": "execute_result"
    }
   ],
   "source": [
    "tt[0].get('name')"
   ]
  },
  {
   "cell_type": "code",
   "execution_count": null,
   "metadata": {},
   "outputs": [],
   "source": []
  }
 ],
 "metadata": {
  "interpreter": {
   "hash": "45c3460790fa99bbdf1fe0d9a884df189912d25502183425302aa8521ffdf460"
  },
  "kernelspec": {
   "display_name": "Python 3.8.12 64-bit ('.venv': venv)",
   "name": "python3"
  },
  "language_info": {
   "codemirror_mode": {
    "name": "ipython",
    "version": 3
   },
   "file_extension": ".py",
   "mimetype": "text/x-python",
   "name": "python",
   "nbconvert_exporter": "python",
   "pygments_lexer": "ipython3",
   "version": "3.8.12"
  },
  "orig_nbformat": 4
 },
 "nbformat": 4,
 "nbformat_minor": 2
}
