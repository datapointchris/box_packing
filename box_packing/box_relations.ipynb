{
 "cells": [
  {
   "cell_type": "code",
   "execution_count": 1,
   "metadata": {},
   "outputs": [],
   "source": [
    "from flask import Flask\n",
    "from box_packing.box_manager import BoxManager\n",
    "import sqlite3"
   ]
  },
  {
   "cell_type": "code",
   "execution_count": 2,
   "metadata": {},
   "outputs": [],
   "source": [
    "app = Flask(__name__, instance_relative_config=False)\n",
    "app.config.from_object('config.Config')\n",
    "\n",
    "connection = sqlite3.connect('moving.db')\n",
    "connection.row_factory = sqlite3.Row\n",
    "\n",
    "bm = BoxManager(connection)"
   ]
  },
  {
   "cell_type": "code",
   "execution_count": 3,
   "metadata": {},
   "outputs": [],
   "source": [
    "new_box = {\n",
    "    \"name\": \"Food Staples\",\n",
    "    \"size\": \"medium\",\n",
    "    \"liquid\": False,\n",
    "    \"warm\": False,\n",
    "    \"essential\": False,\n",
    "}\n",
    "\n",
    "long_box = {\n",
    "    \"name\": \"The Box with the Longest Name Ever in the World\",\n",
    "    \"size\": \"medium\",\n",
    "    \"liquid\": False,\n",
    "    \"warm\": False,\n",
    "    \"essential\": False,\n",
    "}\n",
    "\n",
    "short_box = {\n",
    "    \"name\": \"D\",\n",
    "    \"size\": \"medium\",\n",
    "    \"liquid\": False,\n",
    "    \"warm\": False,\n",
    "    \"essential\": False,\n",
    "}\n",
    "\n",
    "new_item = {\n",
    "    'box_id': 1,\n",
    "    'name': 'Battery Backup',\n",
    "    'warm': True\n",
    "}\n",
    "new_item2 = {\n",
    "    'box_id': 1,\n",
    "    'name': 'Battery Backup1',\n",
    "    'warm': True\n",
    "}\n",
    "new_item3 = {\n",
    "    'box_id': 1,\n",
    "    'name': 'Some cords that have a long name that messes it up',\n",
    "    'warm': True\n",
    "}\n",
    "new_item4 = {\n",
    "    'box_id': 5,\n",
    "    'name': 'S',\n",
    "    'warm': True\n",
    "}\n",
    "new_item5 = {\n",
    "    'box_id': 5,\n",
    "    'name': 'Do you want some more?',\n",
    "    'warm': True\n",
    "}\n",
    "new_item6 = {\n",
    "    'box_id': 4,\n",
    "    'name': 'Shite',\n",
    "    'warm': True\n",
    "}"
   ]
  },
  {
   "cell_type": "code",
   "execution_count": null,
   "metadata": {},
   "outputs": [],
   "source": [
    "bm.reset_db()"
   ]
  },
  {
   "cell_type": "code",
   "execution_count": 6,
   "metadata": {},
   "outputs": [],
   "source": [
    "bm.add_box(new_box)\n",
    "bm.add_box(long_box)\n",
    "bm.add_box(short_box)\n",
    "bm.add_box_item(new_item)\n",
    "bm.add_box_item(new_item2)\n",
    "bm.add_box_item(new_item3)\n",
    "bm.add_box_item(new_item4)\n",
    "bm.add_box_item(new_item5)\n",
    "bm.add_box_item(new_item6)"
   ]
  },
  {
   "cell_type": "code",
   "execution_count": 7,
   "metadata": {},
   "outputs": [
    {
     "name": "stdout",
     "output_type": "stream",
     "text": [
      "============================== Computers ==================================\n",
      "|                                                                         |\n",
      "|    Item: Battery Backup, Warm: 1                                        |\n",
      "|    Item: Battery Backup1, Warm: 1                                       |\n",
      "|    Item: Some cords that have a long name that messes it up, Warm: 1    |\n",
      "|    Item: Battery Backup, Warm: 1                                        |\n",
      "|    Item: Battery Backup1, Warm: 1                                       |\n",
      "|    Item: Some cords that have a long name that messes it up, Warm: 1    |\n",
      "|                                                                         |\n",
      "---------------------------------------------------------------------------\n",
      "\n"
     ]
    }
   ],
   "source": [
    "bm.print_box(1)"
   ]
  },
  {
   "cell_type": "code",
   "execution_count": 8,
   "metadata": {},
   "outputs": [
    {
     "data": {
      "text/plain": [
       "'===== Monitors and Clock ====='"
      ]
     },
     "execution_count": 8,
     "metadata": {},
     "output_type": "execute_result"
    }
   ],
   "source": [
    "bm.print_box(2)\n"
   ]
  },
  {
   "cell_type": "code",
   "execution_count": 9,
   "metadata": {},
   "outputs": [
    {
     "data": {
      "text/plain": [
       "'===== Food Staples ====='"
      ]
     },
     "execution_count": 9,
     "metadata": {},
     "output_type": "execute_result"
    }
   ],
   "source": [
    "bm.print_box(3)"
   ]
  },
  {
   "cell_type": "code",
   "execution_count": 10,
   "metadata": {},
   "outputs": [
    {
     "name": "stdout",
     "output_type": "stream",
     "text": [
      "== The Box with the Longest Name Ever in the World ==\n",
      "|                                                   |\n",
      "|    Item: Shite, Warm: 1    |\n",
      "|    Item: Shite, Warm: 1    |\n",
      "|                                                   |\n",
      "-----------------------------------------------------\n",
      "\n"
     ]
    }
   ],
   "source": [
    "bm.print_box(4)"
   ]
  },
  {
   "cell_type": "code",
   "execution_count": 11,
   "metadata": {},
   "outputs": [
    {
     "name": "stdout",
     "output_type": "stream",
     "text": [
      "================== D ==========================\n",
      "|                                             |\n",
      "|    Item: S, Warm: 1                         |\n",
      "|    Item: Do you want some more?, Warm: 1    |\n",
      "|    Item: S, Warm: 1                         |\n",
      "|    Item: Do you want some more?, Warm: 1    |\n",
      "|                                             |\n",
      "-----------------------------------------------\n",
      "\n"
     ]
    }
   ],
   "source": [
    "bm.print_box(5)"
   ]
  },
  {
   "cell_type": "code",
   "execution_count": 12,
   "metadata": {},
   "outputs": [
    {
     "data": {
      "text/plain": [
       "[{'id': 1,\n",
       "  'name': 'Computers',\n",
       "  'size': 'medium',\n",
       "  'liquid': 0,\n",
       "  'warm': 1,\n",
       "  'essential': 0},\n",
       " {'id': 2,\n",
       "  'name': 'Monitors and Clock',\n",
       "  'size': 'xlarge',\n",
       "  'liquid': 0,\n",
       "  'warm': 1,\n",
       "  'essential': 0},\n",
       " {'id': 3,\n",
       "  'name': 'Food Staples',\n",
       "  'size': 'medium',\n",
       "  'liquid': 0,\n",
       "  'warm': 0,\n",
       "  'essential': 0},\n",
       " {'id': 4,\n",
       "  'name': 'The Box with the Longest Name Ever in the World',\n",
       "  'size': 'medium',\n",
       "  'liquid': 0,\n",
       "  'warm': 0,\n",
       "  'essential': 0},\n",
       " {'id': 5,\n",
       "  'name': 'D',\n",
       "  'size': 'medium',\n",
       "  'liquid': 0,\n",
       "  'warm': 0,\n",
       "  'essential': 0},\n",
       " {'id': 6,\n",
       "  'name': 'Food Staples',\n",
       "  'size': 'medium',\n",
       "  'liquid': 0,\n",
       "  'warm': 0,\n",
       "  'essential': 0},\n",
       " {'id': 7,\n",
       "  'name': 'The Box with the Longest Name Ever in the World',\n",
       "  'size': 'medium',\n",
       "  'liquid': 0,\n",
       "  'warm': 0,\n",
       "  'essential': 0},\n",
       " {'id': 8,\n",
       "  'name': 'D',\n",
       "  'size': 'medium',\n",
       "  'liquid': 0,\n",
       "  'warm': 0,\n",
       "  'essential': 0}]"
      ]
     },
     "execution_count": 12,
     "metadata": {},
     "output_type": "execute_result"
    }
   ],
   "source": [
    "bm.get_all_boxes()"
   ]
  },
  {
   "cell_type": "code",
   "execution_count": null,
   "metadata": {},
   "outputs": [],
   "source": []
  }
 ],
 "metadata": {
  "interpreter": {
   "hash": "45c3460790fa99bbdf1fe0d9a884df189912d25502183425302aa8521ffdf460"
  },
  "kernelspec": {
   "display_name": "Python 3.8.12 64-bit ('.venv': venv)",
   "name": "python3"
  },
  "language_info": {
   "codemirror_mode": {
    "name": "ipython",
    "version": 3
   },
   "file_extension": ".py",
   "mimetype": "text/x-python",
   "name": "python",
   "nbconvert_exporter": "python",
   "pygments_lexer": "ipython3",
   "version": "3.8.12"
  },
  "orig_nbformat": 4
 },
 "nbformat": 4,
 "nbformat_minor": 2
}
