{
 "cells": [
  {
   "cell_type": "code",
   "execution_count": 8,
   "metadata": {},
   "outputs": [],
   "source": [
    "from flask import Flask\n",
    "from box_packing.box_manager import BoxManager\n",
    "import sqlite3\n",
    "from box_packing.test_boxes import box_list, item_list"
   ]
  },
  {
   "cell_type": "code",
   "execution_count": 9,
   "metadata": {},
   "outputs": [],
   "source": [
    "app = Flask(__name__, instance_relative_config=False)\n",
    "app.config.from_object('config.Config')\n",
    "\n",
    "connection = sqlite3.connect('moving.db')\n",
    "connection.row_factory = sqlite3.Row\n",
    "\n",
    "bm = BoxManager(connection)"
   ]
  },
  {
   "cell_type": "code",
   "execution_count": 10,
   "metadata": {},
   "outputs": [],
   "source": [
    "def execute(sql, params=None):\n",
    "    with connection as conn:\n",
    "        cursor = conn.cursor()\n",
    "        if params:\n",
    "            cursor.execute(sql, params)\n",
    "        else:\n",
    "            cursor.execute(sql)\n",
    "        rows = cursor.fetchall()\n",
    "        items = [dict(row) for row in rows]\n",
    "        return items"
   ]
  },
  {
   "cell_type": "code",
   "execution_count": 11,
   "metadata": {},
   "outputs": [],
   "source": [
    "# execute('select * from search_items where name match \"cord*\"')\n",
    "results = execute('select * from search_items where name match \"cords\"')"
   ]
  },
  {
   "cell_type": "code",
   "execution_count": 12,
   "metadata": {},
   "outputs": [],
   "source": [
    "mapping = {1: 'Computers',\n",
    " 2: 'Monitors and Clock',\n",
    " 3: 'Food Staples',\n",
    " 4: 'The Box with the Longest Name Ever in the World',\n",
    " 5: 'D',\n",
    " 6: 'K Cups',\n",
    " 7: 'TV',\n",
    " 8: 'Widescreen',\n",
    " 9: 'The Box with the Longest Name Ever in the World',\n",
    " 10: 'Pills',\n",
    " 11: 'Random',\n",
    " 12: 'Kitchen 1',\n",
    " 13: 'Pans',\n",
    " 14: 'Pots',\n",
    " 15: 'Liquids'}"
   ]
  },
  {
   "cell_type": "code",
   "execution_count": 13,
   "metadata": {},
   "outputs": [],
   "source": [
    "for result in results:\n",
    "    id = result.get('box_id')\n",
    "    box = mapping.get(id)\n",
    "    result['box'] = box\n",
    "    del result['box_id']"
   ]
  },
  {
   "cell_type": "code",
   "execution_count": 14,
   "metadata": {},
   "outputs": [
    {
     "data": {
      "text/plain": [
       "[{'name': 'Some cords that have a long name that messes it up',\n",
       "  'essential': 0,\n",
       "  'warm': 0,\n",
       "  'liquid': 1,\n",
       "  'box': 'Computers'},\n",
       " {'name': 'cords', 'essential': 1, 'warm': 0, 'liquid': 0, 'box': 'D'},\n",
       " {'name': 'Some cords that have a long name that messes it up',\n",
       "  'essential': 0,\n",
       "  'warm': 0,\n",
       "  'liquid': 1,\n",
       "  'box': 'Monitors and Clock'},\n",
       " {'name': 'Some cords that have a long name that messes it up',\n",
       "  'essential': 0,\n",
       "  'warm': 0,\n",
       "  'liquid': 1,\n",
       "  'box': 'Food Staples'},\n",
       " {'name': 'Some cords that have a long name that messes it up',\n",
       "  'essential': 0,\n",
       "  'warm': 0,\n",
       "  'liquid': 1,\n",
       "  'box': 'The Box with the Longest Name Ever in the World'},\n",
       " {'name': 'Some cords that have a long name that messes it up',\n",
       "  'essential': 0,\n",
       "  'warm': 0,\n",
       "  'liquid': 1,\n",
       "  'box': 'The Box with the Longest Name Ever in the World'},\n",
       " {'name': 'Some cords that have a long name that messes it up',\n",
       "  'essential': 0,\n",
       "  'warm': 0,\n",
       "  'liquid': 1,\n",
       "  'box': 'Food Staples'},\n",
       " {'name': 'Some cords that have a long name that messes it up',\n",
       "  'essential': 0,\n",
       "  'warm': 0,\n",
       "  'liquid': 1,\n",
       "  'box': 'Monitors and Clock'},\n",
       " {'name': 'Some cords that have a long name that messes it up',\n",
       "  'essential': 0,\n",
       "  'warm': 0,\n",
       "  'liquid': 1,\n",
       "  'box': 'D'}]"
      ]
     },
     "execution_count": 14,
     "metadata": {},
     "output_type": "execute_result"
    }
   ],
   "source": [
    "results\n"
   ]
  },
  {
   "cell_type": "code",
   "execution_count": 4,
   "metadata": {},
   "outputs": [],
   "source": [
    "newd.update(mapping)"
   ]
  },
  {
   "cell_type": "code",
   "execution_count": 6,
   "metadata": {},
   "outputs": [],
   "source": [
    "c = mapping.copy()"
   ]
  },
  {
   "cell_type": "code",
   "execution_count": 7,
   "metadata": {},
   "outputs": [
    {
     "data": {
      "text/plain": [
       "{1: 'Computers',\n",
       " 2: 'Monitors and Clock',\n",
       " 3: 'Food Staples',\n",
       " 4: 'The Box with the Longest Name Ever in the World',\n",
       " 5: 'D',\n",
       " 6: 'K Cups',\n",
       " 7: 'TV',\n",
       " 8: 'Widescreen',\n",
       " 9: 'The Box with the Longest Name Ever in the World',\n",
       " 10: 'Pills',\n",
       " 11: 'Random',\n",
       " 12: 'Kitchen 1',\n",
       " 13: 'Pans',\n",
       " 14: 'Pots',\n",
       " 15: 'Liquids'}"
      ]
     },
     "execution_count": 7,
     "metadata": {},
     "output_type": "execute_result"
    }
   ],
   "source": [
    "c"
   ]
  },
  {
   "cell_type": "code",
   "execution_count": null,
   "metadata": {},
   "outputs": [],
   "source": [
    "for box in box_list:\n",
    "    bm.add_box(box)\n",
    "\n",
    "for item in item_list:\n",
    "    bm.add_box_item(item)"
   ]
  },
  {
   "cell_type": "code",
   "execution_count": null,
   "metadata": {},
   "outputs": [],
   "source": [
    "bm.print_box(1)"
   ]
  },
  {
   "cell_type": "code",
   "execution_count": null,
   "metadata": {},
   "outputs": [],
   "source": [
    "bm.print_box(2)\n"
   ]
  },
  {
   "cell_type": "code",
   "execution_count": null,
   "metadata": {},
   "outputs": [],
   "source": [
    "bm.print_box(3)"
   ]
  },
  {
   "cell_type": "code",
   "execution_count": null,
   "metadata": {},
   "outputs": [],
   "source": [
    "bm.print_box(4)"
   ]
  },
  {
   "cell_type": "code",
   "execution_count": null,
   "metadata": {},
   "outputs": [],
   "source": [
    "bm.print_box(5)"
   ]
  },
  {
   "cell_type": "code",
   "execution_count": null,
   "metadata": {},
   "outputs": [],
   "source": [
    "bm.get_all_boxes()"
   ]
  },
  {
   "cell_type": "code",
   "execution_count": null,
   "metadata": {},
   "outputs": [],
   "source": [
    "boxitems = bm.get_box_items(1)"
   ]
  },
  {
   "cell_type": "code",
   "execution_count": null,
   "metadata": {},
   "outputs": [],
   "source": [
    "[d for d in boxitems]"
   ]
  },
  {
   "cell_type": "code",
   "execution_count": null,
   "metadata": {},
   "outputs": [],
   "source": [
    "counts = [max(1, sum([d['essential'], d['warm'], d['liquid']])) for d in boxitems]"
   ]
  },
  {
   "cell_type": "code",
   "execution_count": null,
   "metadata": {},
   "outputs": [],
   "source": [
    "things = zip(boxitems, counts)"
   ]
  },
  {
   "cell_type": "code",
   "execution_count": null,
   "metadata": {},
   "outputs": [],
   "source": [
    "things = zip(boxitems, counts)\n",
    "for t1, t2 in things:\n",
    "    print(t1.get('name'), t2)"
   ]
  },
  {
   "cell_type": "code",
   "execution_count": null,
   "metadata": {},
   "outputs": [],
   "source": [
    "tt[0].get('name')"
   ]
  },
  {
   "cell_type": "code",
   "execution_count": null,
   "metadata": {},
   "outputs": [],
   "source": []
  }
 ],
 "metadata": {
  "interpreter": {
   "hash": "45c3460790fa99bbdf1fe0d9a884df189912d25502183425302aa8521ffdf460"
  },
  "kernelspec": {
   "display_name": "Python 3.8.12 64-bit ('.venv': venv)",
   "name": "python3"
  },
  "language_info": {
   "codemirror_mode": {
    "name": "ipython",
    "version": 3
   },
   "file_extension": ".py",
   "mimetype": "text/x-python",
   "name": "python",
   "nbconvert_exporter": "python",
   "pygments_lexer": "ipython3",
   "version": "3.8.12"
  },
  "orig_nbformat": 4
 },
 "nbformat": 4,
 "nbformat_minor": 2
}
