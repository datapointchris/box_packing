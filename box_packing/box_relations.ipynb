{
 "cells": [
  {
   "cell_type": "code",
   "execution_count": 2,
   "metadata": {},
   "outputs": [],
   "source": [
    "from flask import Flask\n",
    "from box_packing.box_manager import BoxManager\n",
    "import sqlite3\n",
    "from box_packing.test_boxes import box_list, item_list"
   ]
  },
  {
   "cell_type": "code",
   "execution_count": 3,
   "metadata": {},
   "outputs": [],
   "source": [
    "app = Flask(__name__)\n",
    "\n",
    "connection = sqlite3.connect('moving.db')\n",
    "connection.row_factory = sqlite3.Row\n",
    "\n",
    "bm = BoxManager(connection)\n"
   ]
  },
  {
   "cell_type": "code",
   "execution_count": 4,
   "metadata": {},
   "outputs": [],
   "source": [
    "bm.reset_db()"
   ]
  },
  {
   "cell_type": "code",
   "execution_count": 10,
   "metadata": {},
   "outputs": [],
   "source": [
    "def execute(sql, params=None):\n",
    "    with connection as conn:\n",
    "        cursor = conn.cursor()\n",
    "        if params:\n",
    "            cursor.execute(sql, params)\n",
    "        else:\n",
    "            cursor.execute(sql)\n",
    "        rows = cursor.fetchall()\n",
    "        items = [dict(row) for row in rows]\n",
    "        return items\n"
   ]
  },
  {
   "cell_type": "code",
   "execution_count": null,
   "metadata": {},
   "outputs": [],
   "source": [
    "default_box = {\n",
    "    \"name\": \"Computers\",\n",
    "    \"size\": \"medium\",\n",
    "    \"liquid\": False,\n",
    "    \"warm\": True,\n",
    "    \"essential\": False,\n",
    "}\n",
    "\n",
    "bm.add_box(default_box)"
   ]
  },
  {
   "cell_type": "code",
   "execution_count": null,
   "metadata": {},
   "outputs": [],
   "source": [
    "# for box in box_list:\n",
    "#     bm.add_box(box)\n",
    "\n",
    "# for item in item_list:\n",
    "#     bm.add_box_item(item)"
   ]
  },
  {
   "cell_type": "code",
   "execution_count": 5,
   "metadata": {},
   "outputs": [
    {
     "data": {
      "text/plain": [
       "[]"
      ]
     },
     "execution_count": 5,
     "metadata": {},
     "output_type": "execute_result"
    }
   ],
   "source": [
    "bm.get_all_boxes()"
   ]
  },
  {
   "cell_type": "code",
   "execution_count": null,
   "metadata": {},
   "outputs": [],
   "source": [
    "boxitems = bm.get_box_items(1)"
   ]
  },
  {
   "cell_type": "code",
   "execution_count": null,
   "metadata": {},
   "outputs": [],
   "source": [
    "[d for d in boxitems]"
   ]
  }
 ],
 "metadata": {
  "interpreter": {
   "hash": "45c3460790fa99bbdf1fe0d9a884df189912d25502183425302aa8521ffdf460"
  },
  "kernelspec": {
   "display_name": "Python 3.8.12 64-bit ('.venv': venv)",
   "name": "python3"
  },
  "language_info": {
   "codemirror_mode": {
    "name": "ipython",
    "version": 3
   },
   "file_extension": ".py",
   "mimetype": "text/x-python",
   "name": "python",
   "nbconvert_exporter": "python",
   "pygments_lexer": "ipython3",
   "version": "3.8.12"
  },
  "orig_nbformat": 4
 },
 "nbformat": 4,
 "nbformat_minor": 2
}
